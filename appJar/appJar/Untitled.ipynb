{
 "cells": [
  {
   "cell_type": "code",
   "execution_count": 1,
   "metadata": {},
   "outputs": [
    {
     "ename": "ModuleNotFoundError",
     "evalue": "No module named 'appJar'",
     "output_type": "error",
     "traceback": [
      "\u001b[1;31m---------------------------------------------------------------------------\u001b[0m",
      "\u001b[1;31mModuleNotFoundError\u001b[0m                       Traceback (most recent call last)",
      "\u001b[1;32m<ipython-input-1-21be361f5923>\u001b[0m in \u001b[0;36m<module>\u001b[1;34m\u001b[0m\n\u001b[0;32m      1\u001b[0m \u001b[1;31m# import the library\u001b[0m\u001b[1;33m\u001b[0m\u001b[1;33m\u001b[0m\u001b[1;33m\u001b[0m\u001b[0m\n\u001b[1;32m----> 2\u001b[1;33m \u001b[1;32mfrom\u001b[0m \u001b[0mappJar\u001b[0m \u001b[1;32mimport\u001b[0m \u001b[0mgui\u001b[0m\u001b[1;33m\u001b[0m\u001b[1;33m\u001b[0m\u001b[0m\n\u001b[0m\u001b[0;32m      3\u001b[0m \u001b[1;33m\u001b[0m\u001b[0m\n\u001b[0;32m      4\u001b[0m \u001b[1;31m# handle button events\u001b[0m\u001b[1;33m\u001b[0m\u001b[1;33m\u001b[0m\u001b[1;33m\u001b[0m\u001b[0m\n\u001b[0;32m      5\u001b[0m \u001b[1;32mdef\u001b[0m \u001b[0mpress\u001b[0m\u001b[1;33m(\u001b[0m\u001b[0mbutton\u001b[0m\u001b[1;33m)\u001b[0m\u001b[1;33m:\u001b[0m\u001b[1;33m\u001b[0m\u001b[1;33m\u001b[0m\u001b[0m\n",
      "\u001b[1;31mModuleNotFoundError\u001b[0m: No module named 'appJar'"
     ]
    }
   ],
   "source": [
    "# import the library\n",
    "from appJar import gui\n",
    "\n",
    "# handle button events\n",
    "def press(button):\n",
    "    if button == \"Cancel\":\n",
    "        app.stop()\n",
    "    else:\n",
    "        usr = app.getEntry(\"Username\")\n",
    "        pwd = app.getEntry(\"Password\")\n",
    "        print(\"User:\", usr, \"Pass:\", pwd)\n",
    "\n",
    "# create a GUI variable called app\n",
    "app = gui(\"Login Window\", \"400x200\")\n",
    "app.setBg(\"orange\")\n",
    "app.setFont(18)\n",
    "\n",
    "# add & configure widgets - widgets get a name, to help referencing them later\n",
    "app.addLabel(\"title\", \"Welcome to appJar\")\n",
    "app.setLabelBg(\"title\", \"blue\")\n",
    "app.setLabelFg(\"title\", \"orange\")\n",
    "\n",
    "app.addLabelEntry(\"Username\")\n",
    "app.addLabelSecretEntry(\"Password\")\n",
    "\n",
    "# link the buttons to the function called press\n",
    "app.addButtons([\"Submit\", \"Cancel\"], press)\n",
    "\n",
    "app.setFocus(\"Username\")\n",
    "\n",
    "# start the GUI\n",
    "app.go()"
   ]
  },
  {
   "cell_type": "code",
   "execution_count": null,
   "metadata": {},
   "outputs": [],
   "source": []
  }
 ],
 "metadata": {
  "kernelspec": {
   "display_name": "Python 3",
   "language": "python",
   "name": "python3"
  }
 },
 "nbformat": 4,
 "nbformat_minor": 2
}
